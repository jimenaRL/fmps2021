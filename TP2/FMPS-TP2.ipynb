{
 "cells": [
  {
   "cell_type": "code",
   "execution_count": 14,
   "id": "8e62f49d",
   "metadata": {},
   "outputs": [],
   "source": [
    "import numpy as np\n",
    "from scipy import signal\n",
    "import matplotlib.pyplot as plt"
   ]
  },
  {
   "cell_type": "code",
   "execution_count": 16,
   "id": "7afcd0a4",
   "metadata": {},
   "outputs": [],
   "source": [
    "fs, a = scipy.io.wavfile.read('stairway.wav')"
   ]
  },
  {
   "cell_type": "markdown",
   "id": "c08cd9a8",
   "metadata": {},
   "source": [
    " Ejercicio 1 - Generación de señales \n",
    " ---------------"
   ]
  },
  {
   "cell_type": "markdown",
   "id": "2caa208f",
   "metadata": {},
   "source": [
    "Generaremos muestras a partir de la siguiente señal continua\n",
    "\n",
    "\\begin{equation}\n",
    "    \\label{x}\n",
    "    x(t) = \\sin(2\\pi f_0 t) + \\cos(2\\pi f_1 t)\n",
    "\\end{equation}\n",
    "\n",
    "\n",
    "\n",
    "donde  $f_0 = 2$Hz y $f_1 = 3f_0$."
   ]
  },
  {
   "cell_type": "markdown",
   "id": "37791e20",
   "metadata": {},
   "source": [
    "**1.1** Implemente una función  def $x(t)$   que devuelve los valores de $x(t)$ de una lista de valores en formato numpy."
   ]
  },
  {
   "cell_type": "markdown",
   "id": "7cb97768",
   "metadata": {},
   "source": [
    "**1.2** Genere una señal con un muestreo fino a una frecuencia de muestreo $f_{s0} = 1000$Hz sobre $N_0 = 1024$ muestras:\n",
    "\n",
    "- Genere un arreglo $t_0$ de $N$ muestras temporales de valores $t = \\frac{n}{f_{s0}}$.\n",
    "        \n",
    "- Evalue la función $x$ en el vector de tiempo $t_0$ y almacene los valores resultantes $x [n]$ en un vector $x_0$.\n",
    "        \n",
    "- Trace la señal con el eje de tiempo correcto en segundos.% (\\texttt{pl.figure}, \\texttt{pl.plot}, \\texttt{pl.title})"
   ]
  },
  {
   "cell_type": "markdown",
   "id": "e1af562d",
   "metadata": {},
   "source": [
    "**1.3** Genere una señal  $x_n$ con una frecuencia de muestreo $f_s = 20$ sobre $N = f_s$ muestras (muestreo de 1 segundo)."
   ]
  },
  {
   "cell_type": "markdown",
   "id": "05705dd5",
   "metadata": {},
   "source": [
    "**1.4** Grafique simultáneamente $x_0$ y $x_n$. Para $x_n$, use el estilo de trazado ``-o'' para ver la posición de las muestras."
   ]
  },
  {
   "cell_type": "code",
   "execution_count": null,
   "id": "293e686f",
   "metadata": {},
   "outputs": [],
   "source": []
  }
 ],
 "metadata": {
  "kernelspec": {
   "display_name": "Python 3",
   "language": "python",
   "name": "python3"
  },
  "language_info": {
   "codemirror_mode": {
    "name": "ipython",
    "version": 3
   },
   "file_extension": ".py",
   "mimetype": "text/x-python",
   "name": "python",
   "nbconvert_exporter": "python",
   "pygments_lexer": "ipython3",
   "version": "3.8.5"
  }
 },
 "nbformat": 4,
 "nbformat_minor": 5
}
